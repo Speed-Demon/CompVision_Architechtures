{
 "cells": [
  {
   "cell_type": "code",
   "execution_count": 8,
   "metadata": {},
   "outputs": [],
   "source": [
    "import numpy as np \n",
    "import pandas as pd \n",
    "from sklearn.model_selection import train_test_split\n",
    "import matplotlib.pyplot as plt\n",
    "import seaborn as sns\n",
    "import random\n",
    "from sklearn.metrics import f1_score \n",
    "import os\n",
    "import tensorflow as tf\n",
    "from tensorflow.keras.models import load_model,Sequential\n",
    "from tensorflow.keras.layers import Dense , Flatten, Conv2D, MaxPooling2D, Dropout, Input , BatchNormalization ,GlobalAveragePooling2D\n",
    "from tensorflow.keras.applications import EfficientNetB0\n",
    "from sklearn.utils.class_weight import compute_class_weight\n",
    "from tensorflow.keras.utils import to_categorical , plot_model\n",
    "from tensorflow.keras.callbacks import EarlyStopping\n",
    "from tensorflow.keras.preprocessing.image import ImageDataGenerator,load_img,array_to_img,img_to_array"
   ]
  },
  {
   "cell_type": "code",
   "execution_count": 22,
   "metadata": {},
   "outputs": [
    {
     "name": "stdout",
     "output_type": "stream",
     "text": [
      "Path to dataset files: C:\\Users\\Aryan\\.cache\\kagglehub\\datasets\\noodulz\\pokemon-dataset-1000\\versions\\2\n"
     ]
    }
   ],
   "source": [
    "import kagglehub\n",
    "\n",
    "# Download latest version\n",
    "path = kagglehub.dataset_download(\"noodulz/pokemon-dataset-1000\")\n",
    "\n",
    "print(\"Path to dataset files:\", path)"
   ]
  },
  {
   "cell_type": "code",
   "execution_count": 26,
   "metadata": {},
   "outputs": [
    {
     "name": "stdout",
     "output_type": "stream",
     "text": [
      "\n",
      "      Dataset Path: C:\\Users\\Aryan\\.cache\\kagglehub\\datasets\\noodulz\\pokemon-dataset-1000\\versions\\2\\pokemon-dataset-1000\\dataset\n",
      "      Train Path: C:\\Users\\Aryan\\.cache\\kagglehub\\datasets\\noodulz\\pokemon-dataset-1000\\versions\\2\\pokemon-dataset-1000\\train\n",
      "      Test Path: C:\\Users\\Aryan\\.cache\\kagglehub\\datasets\\noodulz\\pokemon-dataset-1000\\versions\\2\\pokemon-dataset-1000\\test\n",
      "      Validation Path: C:\\Users\\Aryan\\.cache\\kagglehub\\datasets\\noodulz\\pokemon-dataset-1000\\versions\\2\\pokemon-dataset-1000\\val\n",
      "      \n"
     ]
    }
   ],
   "source": [
    "path = str(path)\n",
    "path\n",
    "dataset_path = path + '\\\\pokemon-dataset-1000\\\\dataset'\n",
    "train_path = path + '\\\\pokemon-dataset-1000\\\\train'\n",
    "test_path = path + '\\\\pokemon-dataset-1000\\\\test'\n",
    "val_path = path + '\\\\pokemon-dataset-1000\\\\val'"
   ]
  },
  {
   "cell_type": "code",
   "execution_count": null,
   "metadata": {},
   "outputs": [],
   "source": [
    "label = [] # label of the image\n",
    "path = [] # path of the image\n",
    "main_dir = dataset_path\n",
    "for i in os.listdir(main_dir):\n",
    "    for img in os.listdir(f\"{main_dir}/{i}\"):\n",
    "        label.append(i)\n",
    "        path.append(f\"{main_dir}/{i}/{img}\")"
   ]
  },
  {
   "cell_type": "code",
   "execution_count": 28,
   "metadata": {},
   "outputs": [],
   "source": [
    "df = pd.DataFrame(columns=['label', 'path'])\n",
    "df['label'] = label\n",
    "df['path'] = path"
   ]
  },
  {
   "cell_type": "code",
   "execution_count": 29,
   "metadata": {},
   "outputs": [
    {
     "data": {
      "text/html": [
       "<div>\n",
       "<style scoped>\n",
       "    .dataframe tbody tr th:only-of-type {\n",
       "        vertical-align: middle;\n",
       "    }\n",
       "\n",
       "    .dataframe tbody tr th {\n",
       "        vertical-align: top;\n",
       "    }\n",
       "\n",
       "    .dataframe thead th {\n",
       "        text-align: right;\n",
       "    }\n",
       "</style>\n",
       "<table border=\"1\" class=\"dataframe\">\n",
       "  <thead>\n",
       "    <tr style=\"text-align: right;\">\n",
       "      <th></th>\n",
       "      <th>label</th>\n",
       "      <th>path</th>\n",
       "    </tr>\n",
       "  </thead>\n",
       "  <tbody>\n",
       "    <tr>\n",
       "      <th>0</th>\n",
       "      <td>abomasnow</td>\n",
       "      <td>C:\\Users\\Aryan\\.cache\\kagglehub\\datasets\\noodu...</td>\n",
       "    </tr>\n",
       "    <tr>\n",
       "      <th>1</th>\n",
       "      <td>abomasnow</td>\n",
       "      <td>C:\\Users\\Aryan\\.cache\\kagglehub\\datasets\\noodu...</td>\n",
       "    </tr>\n",
       "    <tr>\n",
       "      <th>2</th>\n",
       "      <td>abomasnow</td>\n",
       "      <td>C:\\Users\\Aryan\\.cache\\kagglehub\\datasets\\noodu...</td>\n",
       "    </tr>\n",
       "    <tr>\n",
       "      <th>3</th>\n",
       "      <td>abomasnow</td>\n",
       "      <td>C:\\Users\\Aryan\\.cache\\kagglehub\\datasets\\noodu...</td>\n",
       "    </tr>\n",
       "    <tr>\n",
       "      <th>4</th>\n",
       "      <td>abomasnow</td>\n",
       "      <td>C:\\Users\\Aryan\\.cache\\kagglehub\\datasets\\noodu...</td>\n",
       "    </tr>\n",
       "  </tbody>\n",
       "</table>\n",
       "</div>"
      ],
      "text/plain": [
       "       label                                               path\n",
       "0  abomasnow  C:\\Users\\Aryan\\.cache\\kagglehub\\datasets\\noodu...\n",
       "1  abomasnow  C:\\Users\\Aryan\\.cache\\kagglehub\\datasets\\noodu...\n",
       "2  abomasnow  C:\\Users\\Aryan\\.cache\\kagglehub\\datasets\\noodu...\n",
       "3  abomasnow  C:\\Users\\Aryan\\.cache\\kagglehub\\datasets\\noodu...\n",
       "4  abomasnow  C:\\Users\\Aryan\\.cache\\kagglehub\\datasets\\noodu..."
      ]
     },
     "execution_count": 29,
     "metadata": {},
     "output_type": "execute_result"
    }
   ],
   "source": [
    "df.head()"
   ]
  },
  {
   "cell_type": "code",
   "execution_count": 30,
   "metadata": {},
   "outputs": [
    {
     "data": {
      "text/plain": [
       "(26539, 2)"
      ]
     },
     "execution_count": 30,
     "metadata": {},
     "output_type": "execute_result"
    }
   ],
   "source": [
    "df.shape"
   ]
  },
  {
   "cell_type": "code",
   "execution_count": 31,
   "metadata": {},
   "outputs": [
    {
     "name": "stdout",
     "output_type": "stream",
     "text": [
      "<class 'pandas.core.frame.DataFrame'>\n",
      "RangeIndex: 26539 entries, 0 to 26538\n",
      "Data columns (total 2 columns):\n",
      " #   Column  Non-Null Count  Dtype \n",
      "---  ------  --------------  ----- \n",
      " 0   label   26539 non-null  object\n",
      " 1   path    26539 non-null  object\n",
      "dtypes: object(2)\n",
      "memory usage: 414.8+ KB\n"
     ]
    }
   ],
   "source": [
    "df.info()"
   ]
  },
  {
   "cell_type": "code",
   "execution_count": 32,
   "metadata": {},
   "outputs": [
    {
     "data": {
      "text/plain": [
       "label     1000\n",
       "path     26539\n",
       "dtype: int64"
      ]
     },
     "execution_count": 32,
     "metadata": {},
     "output_type": "execute_result"
    }
   ],
   "source": [
    "df.nunique()"
   ]
  },
  {
   "cell_type": "code",
   "execution_count": null,
   "metadata": {},
   "outputs": [],
   "source": [
    "# displaying random"
   ]
  }
 ],
 "metadata": {
  "kernelspec": {
   "display_name": "Python 3",
   "language": "python",
   "name": "python3"
  },
  "language_info": {
   "codemirror_mode": {
    "name": "ipython",
    "version": 3
   },
   "file_extension": ".py",
   "mimetype": "text/x-python",
   "name": "python",
   "nbconvert_exporter": "python",
   "pygments_lexer": "ipython3",
   "version": "3.11.8"
  }
 },
 "nbformat": 4,
 "nbformat_minor": 2
}
